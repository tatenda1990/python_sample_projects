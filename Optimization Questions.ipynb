{
 "cells": [
  {
   "cell_type": "code",
   "execution_count": 1,
   "metadata": {},
   "outputs": [],
   "source": [
    "import numpy as np\n",
    "import scipy\n",
    "from scipy.optimize import minimize\n",
    "import matplotlib.pyplot as plt\n",
    "from scipy import meshgrid"
   ]
  },
  {
   "cell_type": "markdown",
   "metadata": {},
   "source": [
    "Find two positive numbers whose sum is 300 and whose product is a maximum"
   ]
  },
  {
   "cell_type": "code",
   "execution_count": 2,
   "metadata": {},
   "outputs": [
    {
     "data": {
      "text/plain": [
       "array([150., 150.])"
      ]
     },
     "execution_count": 2,
     "metadata": {},
     "output_type": "execute_result"
    }
   ],
   "source": [
    "obj_func1 = lambda x: x[0]*x[1]\n",
    "cons1 = ({'type':'eq','fun': lambda x: x[0] + x[1] - 300}) #remember that x[0]+x[1] = 300 and the constraint should be in the form of constraint >= 0\n",
    "bnds1 = ((0,None),(0,None)) #because x[0] i.e. x and x[1] i.e. y are both positive\n",
    "sol1 = minimize(lambda x: -obj_func1(x),(1,1), constraints = cons1, bounds = bnds1) #bad operand error is the result of calling the function without adding the x in parantheses. To find out why\n",
    "sol1.x"
   ]
  },
  {
   "cell_type": "markdown",
   "metadata": {},
   "source": [
    "We have 45 m2 of material to build a box with a square base and no top. Determine the dimensions of the box that will maximize the enclosed volume. "
   ]
  },
  {
   "cell_type": "code",
   "execution_count": 3,
   "metadata": {},
   "outputs": [
    {
     "data": {
      "text/plain": [
       "array([3.87298608, 1.93648891])"
      ]
     },
     "execution_count": 3,
     "metadata": {},
     "output_type": "execute_result"
    }
   ],
   "source": [
    "obj_func2 = lambda x: x[0]**2 * x[1]\n",
    "cons2 = ({'type':'ineq', 'fun': lambda x: -x[0]**2 - 4*x[0]*x[1] + 45})\n",
    "bnds2 = ((0,None),(0,None))\n",
    "sol2 = minimize (lambda x: -obj_func2(x),(5,6),constraints = cons2,bounds = bnds2)\n",
    "sol2.x"
   ]
  },
  {
   "cell_type": "markdown",
   "metadata": {},
   "source": [
    "We want to build a box whose base length is 6 times the base width and the box will enclose $ 20 in^3$. The cost of the material of the sides is \\\\$3/$in^2$ and the cost of the top and bottom is \\\\$15/$in^2$. Determine the dimensions of the box that will minimize the cost."
   ]
  },
  {
   "cell_type": "code",
   "execution_count": 4,
   "metadata": {},
   "outputs": [
    {
     "name": "stdout",
     "output_type": "stream",
     "text": [
      "Width: 0.7299210398453896, Length: 4.379526239072337, Height: 6.2564356241843795\n"
     ]
    }
   ],
   "source": [
    "obj_func3 = lambda x: 180*x[0]**2 + 42*x[0]*x[1]\n",
    "cons3 = ({'type':'eq', 'fun': lambda x: 6*(x[0]**2)*x[1] - 20})\n",
    "sol3 = minimize(obj_func3,(10,2), constraints = cons3 , bounds = ((0,None),(0,None)))\n",
    "print('Width: {}, Length: {}, Height: {}'.format(sol3.x[0],6*sol3.x[0],sol3.x[1]))"
   ]
  },
  {
   "cell_type": "markdown",
   "metadata": {},
   "source": [
    "We want to construct a cylindrical can with a bottom but no top that will have a volume of $30 cm^3$. Determine the dimensions of the can that will minimize the amount of material needed to construct the can"
   ]
  },
  {
   "cell_type": "code",
   "execution_count": 5,
   "metadata": {},
   "outputs": [
    {
     "name": "stdout",
     "output_type": "stream",
     "text": [
      "Radius: 2.1215331014096264, Height: 2.1216403052331874\n"
     ]
    }
   ],
   "source": [
    "obj_func4 = lambda x: 2*np.pi*x[0]*x[1] + np.pi*x[0]**2\n",
    "cons4 = ({'type': 'eq', 'fun': lambda x: np.pi * x[0]**2 * x[1] - 30})\n",
    "bnds4 = ((0,None),(0,None))\n",
    "sol4 = minimize(obj_func4, (1,1), constraints = cons4, bounds = bnds4)\n",
    "print('Radius: {}, Height: {}'.format(sol4.x[0],sol4.x[1]))"
   ]
  },
  {
   "cell_type": "markdown",
   "metadata": {},
   "source": [
    "We have a piece of cardboard that is 50 cm by 20 cm and we are going to cut out the corners and fold up the sides to form a box. Determine the height of the box that will give a maximum volume"
   ]
  },
  {
   "cell_type": "code",
   "execution_count": 6,
   "metadata": {},
   "outputs": [
    {
     "data": {
      "text/plain": [
       "4.401835129156748"
      ]
     },
     "execution_count": 6,
     "metadata": {},
     "output_type": "execute_result"
    }
   ],
   "source": [
    "obj_func5 = lambda x: (50-2*x[0])*(20-2*x[0])*x[0]\n",
    "#cons5 = ({'type':'ineq' , 'fun': lambda x: 20-2*x[0]})\n",
    "sol5 = minimize(lambda x: -obj_func5(x), 1)\n",
    "sol5.x[0]"
   ]
  },
  {
   "cell_type": "markdown",
   "metadata": {},
   "source": []
  },
  {
   "cell_type": "code",
   "execution_count": 7,
   "metadata": {},
   "outputs": [
    {
     "data": {
      "text/plain": [
       "array([1.        , 4.74299607, 3.82115466, 1.37940764])"
      ]
     },
     "execution_count": 7,
     "metadata": {},
     "output_type": "execute_result"
    }
   ],
   "source": [
    "obj_func6 = lambda x: x[0]*x[3]*(x[0]+x[1]+x[2])+x[2]\n",
    "cons6 = ({'type':'ineq', 'fun': lambda x: x[0]*x[1]*x[2]*x[3] - 25},\n",
    "         {'type':'eq', 'fun': lambda x: x[0]**2 + x[1]**2 + x[2]**2 + x[3]**2 - 40})\n",
    "bnds6 = ((1,5),(1,5),(1,5),(1,5))\n",
    "sol6 = minimize(obj_func6,(1,5,5,1),constraints = cons6,bounds = bnds6)\n",
    "sol6.x"
   ]
  },
  {
   "cell_type": "markdown",
   "metadata": {},
   "source": [
    "maximize and minimize $$f(x,y,z) = x + z $$ subject to <br>\n",
    "$$ x^2 + y^2 + z^2 = 1 $$"
   ]
  },
  {
   "cell_type": "code",
   "execution_count": 8,
   "metadata": {},
   "outputs": [
    {
     "data": {
      "text/plain": [
       "array([-7.07106937e-01, -2.69824564e-06, -7.07106934e-01])"
      ]
     },
     "execution_count": 8,
     "metadata": {},
     "output_type": "execute_result"
    }
   ],
   "source": [
    "obj_func7 = lambda x: x[0] + x[2]\n",
    "cons7 = ({'type': 'eq', 'fun': lambda x: x[0]**2+x[1]**2+x[2]**2-1})\n",
    "sols7 = minimize(obj_func7,(1,1,1),constraints = cons7)\n",
    "sols7.x"
   ]
  },
  {
   "cell_type": "code",
   "execution_count": 9,
   "metadata": {},
   "outputs": [
    {
     "data": {
      "text/plain": [
       "array([ 7.07106784e-01, -9.73630194e-09,  7.07106778e-01])"
      ]
     },
     "execution_count": 9,
     "metadata": {},
     "output_type": "execute_result"
    }
   ],
   "source": [
    "sols8 = minimize(lambda x:-obj_func7(x),(1,1,1),constraints = cons7)\n",
    "sols8.x"
   ]
  },
  {
   "cell_type": "markdown",
   "metadata": {},
   "source": [
    "minimise $$ 3x^2 -2xy $$ <br> subject to:\n",
    "$$x^2 + 5 \\le y$$ <br>\n",
    "$$x + y \\ge 12 $$ <br>\n",
    "$$y^2 + 4x^2 = 18 $$ <br>\n",
    "$$x \\ge 0 , y \\ge 0 $$"
   ]
  },
  {
   "cell_type": "code",
   "execution_count": 10,
   "metadata": {
    "scrolled": true
   },
   "outputs": [
    {
     "data": {
      "text/plain": [
       "array([0.45319305, 3.0592358 ])"
      ]
     },
     "execution_count": 10,
     "metadata": {},
     "output_type": "execute_result"
    }
   ],
   "source": [
    "obj_func9 = lambda x: 3*x[0]**2 - 2*x[0]*x[1]\n",
    "const9 = ({'type' : 'ineq', 'fun': lambda x: x[1] - x[0]**2 - 5},\n",
    "          {'type' : 'ineq', 'fun': lambda x:x[0] + x[1] - 12},\n",
    "          {'type' : 'eq', 'fun': lambda x:x[1]**2 + 4*x[0]**2 - 18})\n",
    "bnds9 = ((0,None),(0,None))\n",
    "sols9 = minimize(obj_func9,(1,1),constraints = const9, bounds = bnds9)\n",
    "sols9.x"
   ]
  },
  {
   "cell_type": "markdown",
   "metadata": {},
   "source": []
  },
  {
   "cell_type": "code",
   "execution_count": 25,
   "metadata": {},
   "outputs": [
    {
     "data": {
      "text/plain": [
       "     fun: -1899.9999999932525\n",
       "     jac: array([-20., -12., -40., -25.])\n",
       " message: 'Optimization terminated successfully.'\n",
       "    nfev: 24\n",
       "     nit: 4\n",
       "    njev: 4\n",
       "  status: 0\n",
       " success: True\n",
       "       x: array([ 5.,  0., 45.,  0.])"
      ]
     },
     "execution_count": 25,
     "metadata": {},
     "output_type": "execute_result"
    }
   ],
   "source": [
    "obj_func10 = lambda x: 20*x[0] + 12*x[1] + 40*x[2] + 25*x[3]\n",
    "const10 = ({'type' : 'ineq' ,'fun': lambda x: 50 - x[0] - x[1] - x[2] - x[3]},\n",
    "           {'type' : 'ineq' ,'fun': lambda x: 100 - 3*x[0] - 2*x[1] - x[2]},\n",
    "           {'type' : 'ineq' ,'fun': lambda x: 90 - x[1] - 2 *x[2] - 3*x[3]})\n",
    "bnds10 = ((0,None),(0,None),(0,None),(0,None))\n",
    "sols10 = minimize(lambda x: -obj_func10(x), (1,1,1,1), constraints = const10, bounds = bnds10)\n",
    "sols10"
   ]
  },
  {
   "cell_type": "code",
   "execution_count": 35,
   "metadata": {},
   "outputs": [
    {
     "data": {
      "text/plain": [
       "     fun: -1899.9999999932525\n",
       "     jac: array([-20., -12., -40., -25.])\n",
       " message: 'Optimization terminated successfully.'\n",
       "    nfev: 24\n",
       "     nit: 4\n",
       "    njev: 4\n",
       "  status: 0\n",
       " success: True\n",
       "       x: array([ 5.,  0., 45.,  0.])"
      ]
     },
     "execution_count": 35,
     "metadata": {},
     "output_type": "execute_result"
    }
   ],
   "source": [
    "def obj_func11(x):\n",
    "    return -20*x[0] - 12*x[1] - 40*x[2] - 25*x[3]\n",
    "def cn1(x):\n",
    "    return 50 - x[0] - x[1] - x[2] - x[3]\n",
    "def cn2(x):\n",
    "    return 100 - 3*x[0] - 2*x[1] - x[2]\n",
    "def cn3(x):\n",
    "    return 90 - x[1] - 2 *x[2] - 3*x[3]\n",
    "const11 = ({'type': 'ineq', 'fun': cn1},\n",
    "           {'type': 'ineq', 'fun': cn2},\n",
    "           {'type': 'ineq', 'fun': cn3})\n",
    "sols11 = minimize(obj_func11, (1,1,1,1), constraints = const11, bounds = bnds10)\n",
    "sols11"
   ]
  },
  {
   "cell_type": "code",
   "execution_count": null,
   "metadata": {},
   "outputs": [],
   "source": []
  }
 ],
 "metadata": {
  "kernelspec": {
   "display_name": "Python 3",
   "language": "python",
   "name": "python3"
  },
  "language_info": {
   "codemirror_mode": {
    "name": "ipython",
    "version": 3
   },
   "file_extension": ".py",
   "mimetype": "text/x-python",
   "name": "python",
   "nbconvert_exporter": "python",
   "pygments_lexer": "ipython3",
   "version": "3.6.5"
  }
 },
 "nbformat": 4,
 "nbformat_minor": 2
}
