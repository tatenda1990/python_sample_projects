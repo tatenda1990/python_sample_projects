{
 "cells": [
  {
   "cell_type": "markdown",
   "metadata": {},
   "source": [
    "evaluate the following: <br>\n",
    "$$ \\int_{0}^{1}x^2sin(2x)e^{-x} $$"
   ]
  },
  {
   "cell_type": "code",
   "execution_count": 10,
   "metadata": {},
   "outputs": [],
   "source": [
    "import numpy as np\n",
    "from scipy.integrate import quad #quad is the module used for integrations"
   ]
  },
  {
   "cell_type": "code",
   "execution_count": 58,
   "metadata": {},
   "outputs": [
    {
     "data": {
      "text/plain": [
       "(0.14558175869954834, 1.6162822047366225e-15)"
      ]
     },
     "execution_count": 58,
     "metadata": {},
     "output_type": "execute_result"
    }
   ],
   "source": [
    "#define integrand as a function first\n",
    "integrand = lambda x: x**2 * np.sin(2*x) * np.exp(-x)\n",
    "#evaluate the integral\n",
    "integral = quad(integrand, 0,1)\n",
    "integral"
   ]
  },
  {
   "cell_type": "markdown",
   "metadata": {},
   "source": [
    "evaluate the following: <br>\n"
   ]
  },
  {
   "cell_type": "code",
   "execution_count": 16,
   "metadata": {},
   "outputs": [],
   "source": [
    "from scipy.integrate import dblquad"
   ]
  },
  {
   "cell_type": "code",
   "execution_count": 25,
   "metadata": {},
   "outputs": [
    {
     "data": {
      "text/plain": [
       "(0.315802507240474, 1.5634600713498928e-14)"
      ]
     },
     "execution_count": 25,
     "metadata": {},
     "output_type": "execute_result"
    }
   ],
   "source": [
    "integrand = lambda x,y: np.sin(x + y**2)\n",
    "lwr_y = lambda x:-x\n",
    "uppr_y = lambda x:x**2\n",
    "integral,integral_err = dblquad(integrand,0,1,lwr_y,uppr_y)\n",
    "integral,integral_err"
   ]
  },
  {
   "cell_type": "code",
   "execution_count": 31,
   "metadata": {},
   "outputs": [],
   "source": [
    "intgnd = lambda x: 1/(x**2 - x + 1)"
   ]
  },
  {
   "cell_type": "code",
   "execution_count": 35,
   "metadata": {},
   "outputs": [
    {
     "data": {
      "text/plain": [
       "(0.6045997880780726, 6.712406054077664e-15)"
      ]
     },
     "execution_count": 35,
     "metadata": {},
     "output_type": "execute_result"
    }
   ],
   "source": [
    "intgrl1, intgrl_err1 = quad(intgnd,1,2)\n",
    "intgrl1, intgrl_err1"
   ]
  },
  {
   "cell_type": "markdown",
   "metadata": {},
   "source": [
    "Solve the following ODEINT <br>\n",
    "http://apmonitor.com/pdc/index.php?n=Main/simulateHIV"
   ]
  },
  {
   "cell_type": "code",
   "execution_count": 43,
   "metadata": {},
   "outputs": [],
   "source": [
    "import numpy as np\n",
    "from scipy.integrate import odeint\n",
    "import matplotlib.pyplot as plt"
   ]
  },
  {
   "cell_type": "code",
   "execution_count": 56,
   "metadata": {},
   "outputs": [
    {
     "data": {
      "text/plain": [
       "<matplotlib.legend.Legend at 0x265a1bc6390>"
      ]
     },
     "execution_count": 56,
     "metadata": {},
     "output_type": "execute_result"
    },
    {
     "data": {
      "image/png": "[encoded data removed]",
      "text/plain": [
       "<Figure size 432x288 with 1 Axes>"
      ]
     },
     "metadata": {},
     "output_type": "display_data"
    }
   ],
   "source": [
    "def HIV_func(z,t): #system of 3 differenctials with time in healthy cells (H), Infected cells (I) and virus count (V)\n",
    "    H = z[0]\n",
    "    I = z[1]\n",
    "    V = z[2]\n",
    "    \n",
    "    #set the constants (as provided in the sample question)\n",
    "    kr1 = 1e5\n",
    "    kr2 = 0.1\n",
    "    kr3 = 2e-7\n",
    "    kr4 = 0.5\n",
    "    kr5 = 5\n",
    "    kr6 = 100\n",
    "    \n",
    "    #define the differentials\n",
    "    dHdt = kr1 - kr2*H - kr3*H*V\n",
    "    dIdt = kr3*H*V - kr4*I\n",
    "    dVdt = -kr3*H*V - kr5*V + kr6*I\n",
    "    \n",
    "    return [dHdt, dIdt, dVdt]\n",
    "\n",
    "t = np.linspace(0,15,150)\n",
    "z0 = [1000000,0,100]\n",
    "H,I,V = odeint(HIV_func,z0,t)[:,0] , odeint(HIV_func,z0,t)[:,1] , odeint(HIV_func,z0,t)[:,2]\n",
    "plt.semilogy(t,H,'b-')\n",
    "plt.semilogy(t,I,'g--')\n",
    "plt.semilogy(t,V,'r--')\n",
    "plt.xlabel('Time (yr)')\n",
    "plt.ylabel('States (log scale)')\n",
    "plt.legend(['H','I','V'],loc = 2)"
   ]
  },
  {
   "cell_type": "code",
   "execution_count": 52,
   "metadata": {},
   "outputs": [],
   "source": [
    "plt.legend?"
   ]
  },
  {
   "cell_type": "code",
   "execution_count": null,
   "metadata": {},
   "outputs": [],
   "source": []
  }
 ],
 "metadata": {
  "kernelspec": {
   "display_name": "Python 3",
   "language": "python",
   "name": "python3"
  },
  "language_info": {
   "codemirror_mode": {
    "name": "ipython",
    "version": 3
   },
   "file_extension": ".py",
   "mimetype": "text/x-python",
   "name": "python",
   "nbconvert_exporter": "python",
   "pygments_lexer": "ipython3",
   "version": "3.6.5"
  }
 },
 "nbformat": 4,
 "nbformat_minor": 2
}
